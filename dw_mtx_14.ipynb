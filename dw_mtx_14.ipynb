{
  "nbformat": 4,
  "nbformat_minor": 0,
  "metadata": {
    "colab": {
      "name": "dw_mtx_14.ipynb",
      "provenance": []
    },
    "kernelspec": {
      "name": "python3",
      "display_name": "Python 3"
    },
    "accelerator": "GPU"
  },
  "cells": [
    {
      "cell_type": "code",
      "metadata": {
        "id": "f9BpRS352jwD",
        "colab_type": "code",
        "colab": {}
      },
      "source": [
        "import pandas as pd\n",
        "import numpy as np\n",
        "import tensorflow as tf\n",
        "from tensorflow.keras.models import Sequential\n",
        "from tensorflow.keras.layers import Conv2D, MaxPool2D, Dense, Flatten, Dropout\n",
        "from tensorflow.keras.utils import to_categorical\n",
        "from sklearn.metrics import accuracy_score\n",
        "\n",
        "import os\n",
        "import datetime\n",
        "\n",
        "import matplotlib.pyplot as plt\n",
        "from skimage import color, exposure"
      ],
      "execution_count": 0,
      "outputs": []
    },
    {
      "cell_type": "code",
      "metadata": {
        "id": "ohjUrZIU2y1r",
        "colab_type": "code",
        "outputId": "a066b2dd-8639-4c54-b65f-859e302a442b",
        "colab": {
          "base_uri": "https://localhost:8080/",
          "height": 35
        }
      },
      "source": [
        "cd '/content/drive/My Drive/Colab Notebooks/dw_mtx/'"
      ],
      "execution_count": 0,
      "outputs": [
        {
          "output_type": "stream",
          "text": [
            "/content/drive/My Drive/Colab Notebooks/dw_mtx\n"
          ],
          "name": "stdout"
        }
      ]
    },
    {
      "cell_type": "code",
      "metadata": {
        "id": "pp3jTL0_Cif7",
        "colab_type": "code",
        "outputId": "b742d399-2bdb-4e48-f7cb-e45955b8e88b",
        "colab": {
          "base_uri": "https://localhost:8080/",
          "height": 35
        }
      },
      "source": [
        "ls './data'"
      ],
      "execution_count": 0,
      "outputs": [
        {
          "output_type": "stream",
          "text": [
            "car.h5  men_shoes.csv  signnames.csv  test.p  train.p\n"
          ],
          "name": "stdout"
        }
      ]
    },
    {
      "cell_type": "code",
      "metadata": {
        "id": "3-BHrneb23di",
        "colab_type": "code",
        "colab": {}
      },
      "source": [
        "train = pd.read_pickle('data/train.p')\n",
        "test = pd.read_pickle('data/test.p')\n",
        "\n",
        "x_train, y_train = train['features'], train['labels']\n",
        "x_test, y_test = test['features'], test['labels']"
      ],
      "execution_count": 0,
      "outputs": []
    },
    {
      "cell_type": "code",
      "metadata": {
        "id": "0wH3W0o13K-0",
        "colab_type": "code",
        "colab": {}
      },
      "source": [
        "if y_train.ndim == 1: y_train = to_categorical(y_train)\n",
        "if y_test.ndim == 1: y_test = to_categorical(y_test)\n",
        "\n",
        "input_shape = x_train.shape[1:]\n",
        "num_classes = y_train.shape[1]"
      ],
      "execution_count": 0,
      "outputs": []
    },
    {
      "cell_type": "code",
      "metadata": {
        "id": "Krsrr8z33Lgw",
        "colab_type": "code",
        "colab": {}
      },
      "source": [
        "def get_cnn_v1(input_shape, num_classes):\n",
        "  return Sequential(\n",
        "    \n",
        "    [\n",
        "     Conv2D(filters =64, kernel_size= (3,3), activation='relu',input_shape=input_shape),\n",
        "     Flatten(),\n",
        "     Dense(num_classes, activation='softmax')\n",
        "    ]\n",
        ")\n",
        "  \n",
        "def train_model(model, X_train, y_train, params_fit = {}):\n",
        "  model.compile(loss='categorical_crossentropy', optimizer='Adam', metrics=['accuracy'])\n",
        "\n",
        "  logdir = os.path.join(\"logs\", datetime.datetime.now().strftime(\"%Y%m%d-%H%M%S\"))\n",
        "  tensorboard_callback = tf.keras.callbacks.TensorBoard(logdir, histogram_freq=1)\n",
        "\n",
        "  model.fit(\n",
        "      X_train, \n",
        "      y_train,\n",
        "      batch_size = params_fit.get('batch_size', 128),\n",
        "      epochs = params_fit.get('epochs', 5),\n",
        "      verbose=params_fit.get('verbose', 1),\n",
        "      validation_data = params_fit.get('validation_data', (X_test, y_test)),\n",
        "      callbacks=[tensorboard_callback]\n",
        "      )\n",
        "  return model"
      ],
      "execution_count": 0,
      "outputs": []
    },
    {
      "cell_type": "code",
      "metadata": {
        "id": "6Z9gwdm83OI2",
        "colab_type": "code",
        "outputId": "e72d637c-2c01-4b50-c8d0-d36fd91c8ff2",
        "colab": {
          "base_uri": "https://localhost:8080/",
          "height": 201
        }
      },
      "source": [
        "model = get_cnn_v1(input_shape, num_classes)\n",
        "model_trained = train_model(model, X_train, y_train)"
      ],
      "execution_count": 0,
      "outputs": [
        {
          "output_type": "stream",
          "text": [
            "Epoch 1/5\n",
            "272/272 [==============================] - 3s 12ms/step - loss: 36.7207 - accuracy: 0.7420 - val_loss: 1.8200 - val_accuracy: 0.7771\n",
            "Epoch 2/5\n",
            "272/272 [==============================] - 3s 12ms/step - loss: 0.2080 - accuracy: 0.9541 - val_loss: 1.6618 - val_accuracy: 0.8129\n",
            "Epoch 3/5\n",
            "272/272 [==============================] - 3s 12ms/step - loss: 0.1130 - accuracy: 0.9738 - val_loss: 1.7450 - val_accuracy: 0.8084\n",
            "Epoch 4/5\n",
            "272/272 [==============================] - 3s 12ms/step - loss: 0.0985 - accuracy: 0.9774 - val_loss: 2.1602 - val_accuracy: 0.8333\n",
            "Epoch 5/5\n",
            "272/272 [==============================] - 3s 12ms/step - loss: 0.0833 - accuracy: 0.9816 - val_loss: 2.4859 - val_accuracy: 0.8236\n"
          ],
          "name": "stdout"
        }
      ]
    },
    {
      "cell_type": "code",
      "metadata": {
        "id": "_yEKm0ys3RQa",
        "colab_type": "code",
        "outputId": "ef750c55-aefb-4674-8742-1fd261ce347c",
        "colab": {
          "base_uri": "https://localhost:8080/",
          "height": 256
        }
      },
      "source": [
        "y_pred_prob = model_trained.predict(X_test)\n",
        "y_pred_prob"
      ],
      "execution_count": 0,
      "outputs": [
        {
          "output_type": "execute_result",
          "data": {
            "text/plain": [
              "array([[1.9955040e-08, 3.5275605e-02, 8.9399815e-02, ..., 8.2634127e-05,\n",
              "        2.8718919e-03, 1.2590632e-05],\n",
              "       [9.1537922e-10, 6.0043618e-04, 6.0694148e-03, ..., 2.7228622e-05,\n",
              "        2.6563384e-06, 2.5309794e-07],\n",
              "       [4.1676330e-08, 1.7180640e-02, 1.3387781e-01, ..., 9.2635275e-04,\n",
              "        1.7709798e-01, 2.1622551e-04],\n",
              "       ...,\n",
              "       [2.1153193e-03, 1.2151405e-02, 2.0882173e-02, ..., 4.7783405e-03,\n",
              "        1.4648155e-03, 1.7651035e-05],\n",
              "       [7.0881182e-03, 3.5443716e-02, 7.9196826e-02, ..., 2.4355628e-02,\n",
              "        6.0161352e-03, 2.6775594e-04],\n",
              "       [4.2756554e-04, 2.6963612e-03, 3.8360064e-03, ..., 4.7233724e-04,\n",
              "        1.7034491e-04, 2.1023557e-06]], dtype=float32)"
            ]
          },
          "metadata": {
            "tags": []
          },
          "execution_count": 58
        }
      ]
    },
    {
      "cell_type": "code",
      "metadata": {
        "id": "GngWIvoN39im",
        "colab_type": "code",
        "outputId": "a064b16f-8ee7-4180-bee1-a871fd011b45",
        "colab": {
          "base_uri": "https://localhost:8080/",
          "height": 219
        }
      },
      "source": [
        "y_pred_prob[400]"
      ],
      "execution_count": 0,
      "outputs": [
        {
          "output_type": "execute_result",
          "data": {
            "text/plain": [
              "array([8.42360721e-04, 9.97235954e-01, 1.89306447e-03, 8.80861627e-13,\n",
              "       2.86467530e-05, 1.27748097e-22, 9.71216506e-35, 4.29471843e-18,\n",
              "       2.88340963e-29, 1.52893902e-14, 5.28147120e-31, 7.05422210e-15,\n",
              "       4.38551538e-23, 4.93433882e-17, 0.00000000e+00, 1.30087934e-22,\n",
              "       8.89062285e-34, 0.00000000e+00, 4.01617215e-22, 0.00000000e+00,\n",
              "       7.56398267e-21, 2.53265628e-24, 1.97594234e-26, 8.91410458e-38,\n",
              "       1.68839101e-35, 9.12336127e-18, 4.12381352e-26, 0.00000000e+00,\n",
              "       1.83694091e-24, 8.27190642e-19, 3.82746627e-37, 9.41034023e-27,\n",
              "       1.28825034e-17, 0.00000000e+00, 0.00000000e+00, 1.69176585e-24,\n",
              "       0.00000000e+00, 0.00000000e+00, 2.81011255e-36, 0.00000000e+00,\n",
              "       8.95104187e-23, 1.70132718e-36, 5.79440867e-25], dtype=float32)"
            ]
          },
          "metadata": {
            "tags": []
          },
          "execution_count": 59
        }
      ]
    },
    {
      "cell_type": "code",
      "metadata": {
        "id": "gQIYpDtMD-sA",
        "colab_type": "code",
        "outputId": "57985f3d-d8cc-4b50-cea6-b663cfea81ef",
        "colab": {
          "base_uri": "https://localhost:8080/",
          "height": 35
        }
      },
      "source": [
        "np.argmax(y_pred_prob[400])"
      ],
      "execution_count": 0,
      "outputs": [
        {
          "output_type": "execute_result",
          "data": {
            "text/plain": [
              "1"
            ]
          },
          "metadata": {
            "tags": []
          },
          "execution_count": 60
        }
      ]
    },
    {
      "cell_type": "code",
      "metadata": {
        "id": "AmArjCiZEAmn",
        "colab_type": "code",
        "outputId": "17804b79-ab67-4b78-da7b-17f96e87c97c",
        "colab": {
          "base_uri": "https://localhost:8080/",
          "height": 35
        }
      },
      "source": [
        "np.sum(y_pred_prob[400])"
      ],
      "execution_count": 0,
      "outputs": [
        {
          "output_type": "execute_result",
          "data": {
            "text/plain": [
              "1.0"
            ]
          },
          "metadata": {
            "tags": []
          },
          "execution_count": 61
        }
      ]
    },
    {
      "cell_type": "code",
      "metadata": {
        "id": "W06xNbCqECM7",
        "colab_type": "code",
        "outputId": "0fe9f0d3-b951-4a5a-b6a0-6e3b3775498d",
        "colab": {
          "base_uri": "https://localhost:8080/",
          "height": 283
        }
      },
      "source": [
        "plt.bar(range(43), y_pred_prob[400])"
      ],
      "execution_count": 0,
      "outputs": [
        {
          "output_type": "execute_result",
          "data": {
            "text/plain": [
              "<BarContainer object of 43 artists>"
            ]
          },
          "metadata": {
            "tags": []
          },
          "execution_count": 62
        },
        {
          "output_type": "display_data",
          "data": {
            "image/png": "[encoded data removed]",
            "text/plain": [
              "<Figure size 432x288 with 1 Axes>"
            ]
          },
          "metadata": {
            "tags": []
          }
        }
      ]
    },
    {
      "cell_type": "code",
      "metadata": {
        "id": "In6OkSIrED0z",
        "colab_type": "code",
        "outputId": "12c2d91a-5284-404c-af1e-e248102428d4",
        "colab": {
          "base_uri": "https://localhost:8080/",
          "height": 266
        }
      },
      "source": [
        "plt.imshow(X_test[400]);"
      ],
      "execution_count": 0,
      "outputs": [
        {
          "output_type": "display_data",
          "data": {
            "image/png": "[encoded data removed]",
            "text/plain": [
              "<Figure size 432x288 with 1 Axes>"
            ]
          },
          "metadata": {
            "tags": []
          }
        }
      ]
    },
    {
      "cell_type": "code",
      "metadata": {
        "id": "fsj0eVf_EGQu",
        "colab_type": "code",
        "colab": {}
      },
      "source": [
        "def predict(model_trained, X_test, y_test, scoring = accuracy_score):\n",
        "  y_test_norm =  np.argmax(y_test, axis = 1)\n",
        "\n",
        "  y_pred_prob = model_trained.predict(X_test)\n",
        "  y_pred = np.argmax(y_pred_prob, axis =1)\n",
        "\n",
        "  return scoring(y_test_norm, y_pred)"
      ],
      "execution_count": 0,
      "outputs": []
    },
    {
      "cell_type": "code",
      "metadata": {
        "id": "Od4dvqPtEM3N",
        "colab_type": "code",
        "outputId": "cb486849-1d03-4498-a523-e95185132b95",
        "colab": {
          "base_uri": "https://localhost:8080/",
          "height": 35
        }
      },
      "source": [
        "predict(model_trained, X_test, y_test )"
      ],
      "execution_count": 0,
      "outputs": [
        {
          "output_type": "execute_result",
          "data": {
            "text/plain": [
              "0.8235827664399092"
            ]
          },
          "metadata": {
            "tags": []
          },
          "execution_count": 65
        }
      ]
    },
    {
      "cell_type": "code",
      "metadata": {
        "id": "Ty4aXUo3EPVO",
        "colab_type": "code",
        "colab": {}
      },
      "source": [
        "\n",
        "\n",
        "def train_and_predict(model):\n",
        "  model_trained = train_model(model, X_train, y_train)\n",
        "  return predict(model_trained, X_test, y_test)\n",
        "\n"
      ],
      "execution_count": 0,
      "outputs": []
    },
    {
      "cell_type": "code",
      "metadata": {
        "id": "yK2UR9i_ETeA",
        "colab_type": "code",
        "outputId": "6af06fdc-da62-499f-dad5-73266344ca47",
        "colab": {
          "base_uri": "https://localhost:8080/",
          "height": 219
        }
      },
      "source": [
        "\n",
        "\n",
        "def get_cnn_v2(input_shape, num_classes):\n",
        "  return Sequential(\n",
        "    \n",
        "    [\n",
        "     Conv2D(filters =32, kernel_size= (3,3), activation='relu',input_shape=input_shape),\n",
        "     MaxPool2D(),\n",
        "     Dropout(0.3),\n",
        "\n",
        "     Conv2D(filters =64, kernel_size= (3,3), activation='relu'),\n",
        "     MaxPool2D(),\n",
        "     Dropout(0.3),\n",
        "\n",
        "     Flatten(),\n",
        "     \n",
        "     Dense(1024, activation='relu'),\n",
        "     Dropout(0.3),\n",
        "     Dense(num_classes, activation='softmax')\n",
        "    ]\n",
        "\n",
        ")\n",
        "\n",
        "train_and_predict(get_cnn_v2(input_shape, num_classes))\n",
        "\n"
      ],
      "execution_count": 0,
      "outputs": [
        {
          "output_type": "stream",
          "text": [
            "Epoch 1/5\n",
            "272/272 [==============================] - 3s 11ms/step - loss: 3.8683 - accuracy: 0.5009 - val_loss: 0.7504 - val_accuracy: 0.8154\n",
            "Epoch 2/5\n",
            "272/272 [==============================] - 3s 10ms/step - loss: 0.5722 - accuracy: 0.8316 - val_loss: 0.5793 - val_accuracy: 0.8560\n",
            "Epoch 3/5\n",
            "272/272 [==============================] - 3s 10ms/step - loss: 0.3605 - accuracy: 0.8931 - val_loss: 0.4403 - val_accuracy: 0.9027\n",
            "Epoch 4/5\n",
            "272/272 [==============================] - 3s 10ms/step - loss: 0.2693 - accuracy: 0.9201 - val_loss: 0.3911 - val_accuracy: 0.9177\n",
            "Epoch 5/5\n",
            "272/272 [==============================] - 3s 10ms/step - loss: 0.2145 - accuracy: 0.9363 - val_loss: 0.3039 - val_accuracy: 0.9313\n"
          ],
          "name": "stdout"
        },
        {
          "output_type": "execute_result",
          "data": {
            "text/plain": [
              "0.9312925170068027"
            ]
          },
          "metadata": {
            "tags": []
          },
          "execution_count": 67
        }
      ]
    },
    {
      "cell_type": "code",
      "metadata": {
        "id": "3OTHeAXGEUAR",
        "colab_type": "code",
        "outputId": "5626304f-59d3-4332-bba1-d75a1b025047",
        "colab": {
          "base_uri": "https://localhost:8080/",
          "height": 219
        }
      },
      "source": [
        "def get_cnn_v3(input_shape, num_classes):\n",
        "  return Sequential(\n",
        "    \n",
        "    [\n",
        "     Conv2D(filters =32, kernel_size= (3,3), activation='relu',input_shape=input_shape),\n",
        "     Conv2D(filters =32, kernel_size= (3,3), activation='relu'),\n",
        "     MaxPool2D(),\n",
        "     Dropout(0.3),\n",
        "\n",
        "     Conv2D(filters =64, kernel_size= (3,3), activation='relu'),\n",
        "     Conv2D(filters =64, kernel_size= (3,3), activation='relu'),\n",
        "     MaxPool2D(),\n",
        "     Dropout(0.3),\n",
        "\n",
        "     Flatten(),\n",
        "     \n",
        "     Dense(1024, activation='relu'),\n",
        "     Dropout(0.3),\n",
        "     Dense(num_classes, activation='softmax')\n",
        "    ]\n",
        "\n",
        ")\n",
        "\n",
        "train_and_predict(get_cnn_v3(input_shape, num_classes))"
      ],
      "execution_count": 0,
      "outputs": [
        {
          "output_type": "stream",
          "text": [
            "Epoch 1/5\n",
            "272/272 [==============================] - 4s 14ms/step - loss: 1.8591 - accuracy: 0.5801 - val_loss: 0.4355 - val_accuracy: 0.8735\n",
            "Epoch 2/5\n",
            "272/272 [==============================] - 4s 14ms/step - loss: 0.4245 - accuracy: 0.8726 - val_loss: 0.2222 - val_accuracy: 0.9395\n",
            "Epoch 3/5\n",
            "272/272 [==============================] - 4s 14ms/step - loss: 0.2498 - accuracy: 0.9262 - val_loss: 0.1562 - val_accuracy: 0.9580\n",
            "Epoch 4/5\n",
            "272/272 [==============================] - 4s 14ms/step - loss: 0.1640 - accuracy: 0.9499 - val_loss: 0.1560 - val_accuracy: 0.9621\n",
            "Epoch 5/5\n",
            "272/272 [==============================] - 4s 14ms/step - loss: 0.1283 - accuracy: 0.9613 - val_loss: 0.2065 - val_accuracy: 0.9535\n"
          ],
          "name": "stdout"
        },
        {
          "output_type": "execute_result",
          "data": {
            "text/plain": [
              "0.953514739229025"
            ]
          },
          "metadata": {
            "tags": []
          },
          "execution_count": 68
        }
      ]
    },
    {
      "cell_type": "code",
      "metadata": {
        "id": "bcyZXswzErsa",
        "colab_type": "code",
        "outputId": "14188b3f-9e68-4535-9bea-b3db6e6fe8de",
        "colab": {
          "base_uri": "https://localhost:8080/",
          "height": 219
        }
      },
      "source": [
        "def get_cnn_v4(input_shape, num_classes):\n",
        "  return Sequential(\n",
        "    \n",
        "    [\n",
        "     Conv2D(filters =32, kernel_size= (3,3), activation='relu',input_shape=input_shape),\n",
        "     Conv2D(filters =32, kernel_size= (3,3), activation='relu'),\n",
        "     MaxPool2D(),\n",
        "     Dropout(0.3),\n",
        "\n",
        "     Conv2D(filters =64, kernel_size= (3,3), activation='relu', padding='same'),\n",
        "     Conv2D(filters =64, kernel_size= (3,3), activation='relu'),\n",
        "     MaxPool2D(),\n",
        "     Dropout(0.3),\n",
        "\n",
        "     Conv2D(filters =64, kernel_size= (3,3), activation='relu', padding='same'),\n",
        "     Conv2D(filters =64, kernel_size= (3,3), activation='relu'),\n",
        "     MaxPool2D(),\n",
        "     Dropout(0.3),\n",
        "\n",
        "     Flatten(),\n",
        "     \n",
        "     Dense(1024, activation='relu'),\n",
        "     Dropout(0.3),\n",
        "     Dense(num_classes, activation='softmax')\n",
        "    ]\n",
        "\n",
        ")\n",
        "\n",
        "train_and_predict(get_cnn_v4(input_shape, num_classes))"
      ],
      "execution_count": 0,
      "outputs": [
        {
          "output_type": "stream",
          "text": [
            "Epoch 1/5\n",
            "272/272 [==============================] - 4s 15ms/step - loss: 2.6572 - accuracy: 0.2861 - val_loss: 1.3272 - val_accuracy: 0.5921\n",
            "Epoch 2/5\n",
            "272/272 [==============================] - 4s 15ms/step - loss: 0.9301 - accuracy: 0.7057 - val_loss: 0.3535 - val_accuracy: 0.8828\n",
            "Epoch 3/5\n",
            "272/272 [==============================] - 4s 15ms/step - loss: 0.4015 - accuracy: 0.8754 - val_loss: 0.2048 - val_accuracy: 0.9404\n",
            "Epoch 4/5\n",
            "272/272 [==============================] - 4s 15ms/step - loss: 0.2499 - accuracy: 0.9225 - val_loss: 0.1648 - val_accuracy: 0.9494\n",
            "Epoch 5/5\n",
            "272/272 [==============================] - 4s 15ms/step - loss: 0.1854 - accuracy: 0.9436 - val_loss: 0.1090 - val_accuracy: 0.9719\n"
          ],
          "name": "stdout"
        },
        {
          "output_type": "execute_result",
          "data": {
            "text/plain": [
              "0.9718820861678005"
            ]
          },
          "metadata": {
            "tags": []
          },
          "execution_count": 69
        }
      ]
    },
    {
      "cell_type": "code",
      "metadata": {
        "id": "WBV4ekxOEt_o",
        "colab_type": "code",
        "outputId": "e2b5ab33-ccfb-4b5a-edc3-d9b64ad64bd5",
        "colab": {
          "base_uri": "https://localhost:8080/",
          "height": 219
        }
      },
      "source": [
        "def get_cnn_v5(input_shape, num_classes):\n",
        "  return Sequential(\n",
        "    \n",
        "    [\n",
        "     Conv2D(filters =32, kernel_size= (3,3), activation='relu',input_shape=input_shape),\n",
        "     Conv2D(filters =32, kernel_size= (3,3), activation='relu'),\n",
        "     MaxPool2D(),\n",
        "     Dropout(0.3),\n",
        "\n",
        "     Conv2D(filters =64, kernel_size= (3,3), activation='relu', padding='same'),\n",
        "     Conv2D(filters =64, kernel_size= (3,3), activation='relu'),\n",
        "     MaxPool2D(),\n",
        "     Dropout(0.3),\n",
        "\n",
        "     Conv2D(filters =64, kernel_size= (3,3), activation='relu', padding='same'),\n",
        "     Conv2D(filters =64, kernel_size= (3,3), activation='relu'),\n",
        "     MaxPool2D(),\n",
        "     Dropout(0.3),\n",
        "\n",
        "     Flatten(),\n",
        "     \n",
        "     Dense(1024, activation='relu'),\n",
        "     Dropout(0.3),\n",
        "     Dense(1024, activation='relu'),\n",
        "     Dropout(0.3),\n",
        "     Dense(num_classes, activation='softmax')\n",
        "    ]\n",
        "\n",
        ")\n",
        "\n",
        "train_and_predict(get_cnn_v5(input_shape, num_classes))"
      ],
      "execution_count": 0,
      "outputs": [
        {
          "output_type": "stream",
          "text": [
            "Epoch 1/5\n",
            "272/272 [==============================] - 4s 16ms/step - loss: 2.6642 - accuracy: 0.2702 - val_loss: 1.5700 - val_accuracy: 0.5057\n",
            "Epoch 2/5\n",
            "272/272 [==============================] - 4s 16ms/step - loss: 1.1402 - accuracy: 0.6280 - val_loss: 0.5697 - val_accuracy: 0.8483\n",
            "Epoch 3/5\n",
            "272/272 [==============================] - 4s 16ms/step - loss: 0.5453 - accuracy: 0.8246 - val_loss: 0.4020 - val_accuracy: 0.8810\n",
            "Epoch 4/5\n",
            "272/272 [==============================] - 4s 16ms/step - loss: 0.3705 - accuracy: 0.8827 - val_loss: 0.2586 - val_accuracy: 0.9213\n",
            "Epoch 5/5\n",
            "272/272 [==============================] - 4s 16ms/step - loss: 0.2851 - accuracy: 0.9115 - val_loss: 0.2234 - val_accuracy: 0.9413\n"
          ],
          "name": "stdout"
        },
        {
          "output_type": "execute_result",
          "data": {
            "text/plain": [
              "0.9412698412698413"
            ]
          },
          "metadata": {
            "tags": []
          },
          "execution_count": 70
        }
      ]
    },
    {
      "cell_type": "code",
      "metadata": {
        "id": "vOgs8klsEwgE",
        "colab_type": "code",
        "outputId": "6ecf5a82-6af3-4ba6-b8c1-57ed7aad9a8c",
        "colab": {
          "base_uri": "https://localhost:8080/",
          "height": 219
        }
      },
      "source": [
        "train_and_predict(get_cnn_v3(input_shape, num_classes))"
      ],
      "execution_count": 0,
      "outputs": [
        {
          "output_type": "stream",
          "text": [
            "Epoch 1/5\n",
            "272/272 [==============================] - 4s 15ms/step - loss: 1.8163 - accuracy: 0.6165 - val_loss: 0.3672 - val_accuracy: 0.9034\n",
            "Epoch 2/5\n",
            "272/272 [==============================] - 4s 14ms/step - loss: 0.3830 - accuracy: 0.8890 - val_loss: 0.2201 - val_accuracy: 0.9535\n",
            "Epoch 3/5\n",
            "272/272 [==============================] - 4s 14ms/step - loss: 0.2325 - accuracy: 0.9328 - val_loss: 0.2614 - val_accuracy: 0.9483\n",
            "Epoch 4/5\n",
            "272/272 [==============================] - 4s 14ms/step - loss: 0.1617 - accuracy: 0.9517 - val_loss: 0.1283 - val_accuracy: 0.9746\n",
            "Epoch 5/5\n",
            "272/272 [==============================] - 4s 14ms/step - loss: 0.1277 - accuracy: 0.9632 - val_loss: 0.1711 - val_accuracy: 0.9630\n"
          ],
          "name": "stdout"
        },
        {
          "output_type": "execute_result",
          "data": {
            "text/plain": [
              "0.9630385487528345"
            ]
          },
          "metadata": {
            "tags": []
          },
          "execution_count": 71
        }
      ]
    },
    {
      "cell_type": "code",
      "metadata": {
        "id": "_63IOOenEycr",
        "colab_type": "code",
        "outputId": "c3538945-eb96-4968-84d4-50b7e219702a",
        "colab": {
          "base_uri": "https://localhost:8080/",
          "height": 35
        }
      },
      "source": [
        "color.rgb2gray(X_train[0]).shape"
      ],
      "execution_count": 0,
      "outputs": [
        {
          "output_type": "execute_result",
          "data": {
            "text/plain": [
              "(32, 32)"
            ]
          },
          "metadata": {
            "tags": []
          },
          "execution_count": 72
        }
      ]
    },
    {
      "cell_type": "code",
      "metadata": {
        "id": "Cdx-V5TPE0Os",
        "colab_type": "code",
        "colab": {}
      },
      "source": [
        "X_train_gray = color.rgb2gray(X_train).reshape(-1,32,32,1)\n",
        "X_test_gray = color.rgb2gray(X_test).reshape(-1,32,32,1)"
      ],
      "execution_count": 0,
      "outputs": []
    },
    {
      "cell_type": "code",
      "metadata": {
        "id": "Go9uwI-PE33p",
        "colab_type": "code",
        "outputId": "5ebc773b-4828-4155-b37e-1b919cfcc855",
        "colab": {
          "base_uri": "https://localhost:8080/",
          "height": 219
        }
      },
      "source": [
        "model=get_cnn_v5((32,32,1), num_classes)\n",
        "model_trained= train_model(model,X_train_gray,y_train, params_fit={})\n",
        "predict(model_trained, X_test_gray, y_test)"
      ],
      "execution_count": 0,
      "outputs": [
        {
          "output_type": "stream",
          "text": [
            "Epoch 1/5\n",
            "272/272 [==============================] - 5s 18ms/step - loss: 2.3457 - accuracy: 0.3408 - val_loss: 0.9865 - val_accuracy: 0.7122\n",
            "Epoch 2/5\n",
            "272/272 [==============================] - 5s 17ms/step - loss: 0.7385 - accuracy: 0.7669 - val_loss: 0.3270 - val_accuracy: 0.8984\n",
            "Epoch 3/5\n",
            "272/272 [==============================] - 5s 17ms/step - loss: 0.3939 - accuracy: 0.8797 - val_loss: 0.2778 - val_accuracy: 0.9431\n",
            "Epoch 4/5\n",
            "272/272 [==============================] - 5s 17ms/step - loss: 0.2623 - accuracy: 0.9185 - val_loss: 0.1953 - val_accuracy: 0.9526\n",
            "Epoch 5/5\n",
            "272/272 [==============================] - 5s 17ms/step - loss: 0.2012 - accuracy: 0.9394 - val_loss: 0.2272 - val_accuracy: 0.9655\n"
          ],
          "name": "stdout"
        },
        {
          "output_type": "execute_result",
          "data": {
            "text/plain": [
              "0.9655328798185941"
            ]
          },
          "metadata": {
            "tags": []
          },
          "execution_count": 75
        }
      ]
    },
    {
      "cell_type": "code",
      "metadata": {
        "id": "Z8TRutRKE8vT",
        "colab_type": "code",
        "outputId": "8d04bb46-266e-4085-e1e0-342d65a28f81",
        "colab": {
          "base_uri": "https://localhost:8080/",
          "height": 266
        }
      },
      "source": [
        "\n",
        "plt.imshow(color.rgb2gray(X_train[0]),cmap=plt.get_cmap(\"gray\"));\n",
        "\n"
      ],
      "execution_count": 0,
      "outputs": [
        {
          "output_type": "display_data",
          "data": {
            "image/png": "[encoded data removed]",
            "text/plain": [
              "<Figure size 432x288 with 1 Axes>"
            ]
          },
          "metadata": {
            "tags": []
          }
        }
      ]
    },
    {
      "cell_type": "code",
      "metadata": {
        "id": "rpDUtAhwE-al",
        "colab_type": "code",
        "colab": {}
      },
      "source": [
        ""
      ],
      "execution_count": 0,
      "outputs": []
    },
    {
      "cell_type": "code",
      "metadata": {
        "id": "WVgF_VF4BJBM",
        "colab_type": "code",
        "colab": {
          "base_uri": "https://localhost:8080/",
          "height": 35
        },
        "outputId": "431e29f0-3a48-4658-9076-ec0f0cd22209"
      },
      "source": [
        ""
      ],
      "execution_count": 1,
      "outputs": [
        {
          "output_type": "stream",
          "text": [
            "fatal: not a git repository (or any of the parent directories): .git\n"
          ],
          "name": "stdout"
        }
      ]
    }
  ]
}